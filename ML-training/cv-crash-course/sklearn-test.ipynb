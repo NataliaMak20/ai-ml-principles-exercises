{
  "nbformat": 4,
  "nbformat_minor": 0,
  "metadata": {
    "colab": {
      "provenance": [],
      "authorship_tag": "ABX9TyMm55kLI7nQeXbR5075drj9",
      "include_colab_link": true
    },
    "kernelspec": {
      "name": "python3",
      "display_name": "Python 3"
    },
    "language_info": {
      "name": "python"
    }
  },
  "cells": [
    {
      "cell_type": "markdown",
      "metadata": {
        "id": "view-in-github",
        "colab_type": "text"
      },
      "source": [
        "<a href=\"https://colab.research.google.com/github/NataliaMak20/ai-ml-principles-exercises/blob/main/ML-training/cv-crash-course/sklearn-test.ipynb\" target=\"_parent\"><img src=\"https://colab.research.google.com/assets/colab-badge.svg\" alt=\"Open In Colab\"/></a>"
      ]
    },
    {
      "cell_type": "code",
      "source": [
        "import sklearn\n",
        "import numpy as np\n",
        "import sklearn.datasets as datasets "
      ],
      "metadata": {
        "id": "g_Xxe5U4454x"
      },
      "execution_count": 3,
      "outputs": []
    },
    {
      "cell_type": "code",
      "source": [
        "data = datasets.load_digits()"
      ],
      "metadata": {
        "id": "z4MOHEkm5L6m"
      },
      "execution_count": 4,
      "outputs": []
    },
    {
      "cell_type": "code",
      "source": [
        "data.keys()"
      ],
      "metadata": {
        "colab": {
          "base_uri": "https://localhost:8080/"
        },
        "id": "iRJwfAm25Nfq",
        "outputId": "d6ff4a12-1438-4862-cecc-dba6bd15db89"
      },
      "execution_count": 5,
      "outputs": [
        {
          "output_type": "execute_result",
          "data": {
            "text/plain": [
              "dict_keys(['data', 'target', 'frame', 'feature_names', 'target_names', 'images', 'DESCR'])"
            ]
          },
          "metadata": {},
          "execution_count": 5
        }
      ]
    },
    {
      "cell_type": "code",
      "source": [
        "len(data.images)"
      ],
      "metadata": {
        "colab": {
          "base_uri": "https://localhost:8080/"
        },
        "id": "UFilTcLk5Ysr",
        "outputId": "dc20504e-dead-41a3-abc4-c6057966dc81"
      },
      "execution_count": 6,
      "outputs": [
        {
          "output_type": "execute_result",
          "data": {
            "text/plain": [
              "1797"
            ]
          },
          "metadata": {},
          "execution_count": 6
        }
      ]
    },
    {
      "cell_type": "code",
      "source": [
        "from PIL import Image\n",
        "\n",
        "i = 100\n",
        "print(data.target[i])\n",
        "Image.fromarray((data.images[i] / 16 * 255).astype(np.uint8), \"L\").resize((100, 100), resample=Image.NEAREST)"
      ],
      "metadata": {
        "colab": {
          "base_uri": "https://localhost:8080/",
          "height": 134
        },
        "id": "IewERBAj7s2X",
        "outputId": "8cc52649-bfa3-47c5-94af-09f8e428d9a2"
      },
      "execution_count": 7,
      "outputs": [
        {
          "output_type": "stream",
          "name": "stdout",
          "text": [
            "4\n"
          ]
        },
        {
          "output_type": "execute_result",
          "data": {
            "text/plain": [
              "<PIL.Image.Image image mode=L size=100x100 at 0x7FC831657850>"
            ],
            "image/png": "[encoded data removed]"
          },
          "metadata": {},
          "execution_count": 7
        }
      ]
    },
    {
      "cell_type": "code",
      "source": [
        "np.max(data.images)"
      ],
      "metadata": {
        "colab": {
          "base_uri": "https://localhost:8080/"
        },
        "id": "6D1B0igtOGt2",
        "outputId": "9a9fc6e1-6751-4528-bf62-195b7407ec99"
      },
      "execution_count": 8,
      "outputs": [
        {
          "output_type": "execute_result",
          "data": {
            "text/plain": [
              "16.0"
            ]
          },
          "metadata": {},
          "execution_count": 8
        }
      ]
    },
    {
      "cell_type": "code",
      "source": [
        "data.images.shape"
      ],
      "metadata": {
        "colab": {
          "base_uri": "https://localhost:8080/"
        },
        "id": "7KpWLwc4OMUw",
        "outputId": "5d9ed35f-a211-452d-b8f8-9ee94b4cca1b"
      },
      "execution_count": 9,
      "outputs": [
        {
          "output_type": "execute_result",
          "data": {
            "text/plain": [
              "(1797, 8, 8)"
            ]
          },
          "metadata": {},
          "execution_count": 9
        }
      ]
    },
    {
      "cell_type": "code",
      "source": [
        "data.images.reshape((len(data.images), -1)).shape"
      ],
      "metadata": {
        "colab": {
          "base_uri": "https://localhost:8080/"
        },
        "id": "vhW8BuhMOQYZ",
        "outputId": "4373bfc4-6ba4-4607-bd89-bc24c64c757d"
      },
      "execution_count": 10,
      "outputs": [
        {
          "output_type": "execute_result",
          "data": {
            "text/plain": [
              "(1797, 64)"
            ]
          },
          "metadata": {},
          "execution_count": 10
        }
      ]
    },
    {
      "cell_type": "code",
      "source": [
        "from sklearn.model_selection import train_test_split"
      ],
      "metadata": {
        "id": "XrVtgi11OU8l"
      },
      "execution_count": 11,
      "outputs": []
    },
    {
      "cell_type": "code",
      "source": [
        "flat_dataset = data.images.reshape((len(data.images), -1))\n",
        "X_train, X_test, y_train, y_test = train_test_split(flat_dataset, data.target, train_size=0.8)"
      ],
      "metadata": {
        "id": "dOv_D87tOYtw"
      },
      "execution_count": 12,
      "outputs": []
    },
    {
      "cell_type": "code",
      "source": [
        "X_train.shape"
      ],
      "metadata": {
        "colab": {
          "base_uri": "https://localhost:8080/"
        },
        "id": "-fBrOuUuOdD-",
        "outputId": "a069bb23-e32c-40e3-8b73-cfcf75a4cc0e"
      },
      "execution_count": 13,
      "outputs": [
        {
          "output_type": "execute_result",
          "data": {
            "text/plain": [
              "(1437, 64)"
            ]
          },
          "metadata": {},
          "execution_count": 13
        }
      ]
    },
    {
      "cell_type": "code",
      "source": [
        "X_test.shape"
      ],
      "metadata": {
        "colab": {
          "base_uri": "https://localhost:8080/"
        },
        "id": "5wpmQOaoOg1J",
        "outputId": "bd795a03-7527-45de-a88c-4b5caa412516"
      },
      "execution_count": 14,
      "outputs": [
        {
          "output_type": "execute_result",
          "data": {
            "text/plain": [
              "(360, 64)"
            ]
          },
          "metadata": {},
          "execution_count": 14
        }
      ]
    },
    {
      "cell_type": "code",
      "source": [
        "print(y_test[100])\n",
        "Image.fromarray((X_test[100].reshape((8,8)) / 16 * 255).astype(np.uint8), \"L\").resize((100,100))"
      ],
      "metadata": {
        "colab": {
          "base_uri": "https://localhost:8080/",
          "height": 134
        },
        "id": "3X30Au8tOnFp",
        "outputId": "901e8a7a-092c-4b43-f959-33c5a43740ac"
      },
      "execution_count": 15,
      "outputs": [
        {
          "output_type": "stream",
          "name": "stdout",
          "text": [
            "9\n"
          ]
        },
        {
          "output_type": "execute_result",
          "data": {
            "text/plain": [
              "<PIL.Image.Image image mode=L size=100x100 at 0x7FC8268B3F40>"
            ],
            "image/png": "[encoded data removed]"
          },
          "metadata": {},
          "execution_count": 15
        }
      ]
    },
    {
      "cell_type": "code",
      "source": [
        "from sklearn import svm"
      ],
      "metadata": {
        "id": "TZ51VehXOzai"
      },
      "execution_count": 16,
      "outputs": []
    },
    {
      "cell_type": "code",
      "source": [
        "model = svm.SVC(gamma=0.001)\n",
        "model.fit(X_train, y_train)"
      ],
      "metadata": {
        "colab": {
          "base_uri": "https://localhost:8080/"
        },
        "id": "6iGyEvfIO0z3",
        "outputId": "d5af6a4e-7d43-4395-ffff-67186dd5d68d"
      },
      "execution_count": 17,
      "outputs": [
        {
          "output_type": "execute_result",
          "data": {
            "text/plain": [
              "SVC(gamma=0.001)"
            ]
          },
          "metadata": {},
          "execution_count": 17
        }
      ]
    },
    {
      "cell_type": "code",
      "source": [
        "model.predict(X_test[0:10])"
      ],
      "metadata": {
        "colab": {
          "base_uri": "https://localhost:8080/"
        },
        "id": "OwtdvcN4O4MZ",
        "outputId": "be8db7f5-4377-4bca-a498-e416a4244bcc"
      },
      "execution_count": 18,
      "outputs": [
        {
          "output_type": "execute_result",
          "data": {
            "text/plain": [
              "array([8, 7, 9, 9, 9, 5, 5, 3, 8, 2])"
            ]
          },
          "metadata": {},
          "execution_count": 18
        }
      ]
    },
    {
      "cell_type": "code",
      "source": [
        "y_test[0:10]"
      ],
      "metadata": {
        "colab": {
          "base_uri": "https://localhost:8080/"
        },
        "id": "u0cIGftPO74L",
        "outputId": "6056d9dc-b0ea-4a70-9b0e-c7ad249ead19"
      },
      "execution_count": 19,
      "outputs": [
        {
          "output_type": "execute_result",
          "data": {
            "text/plain": [
              "array([8, 7, 9, 9, 9, 5, 5, 3, 8, 2])"
            ]
          },
          "metadata": {},
          "execution_count": 19
        }
      ]
    },
    {
      "cell_type": "code",
      "source": [
        "model.predict(X_test[0:10]) == y_test[0:10]"
      ],
      "metadata": {
        "colab": {
          "base_uri": "https://localhost:8080/"
        },
        "id": "ZKU-Y615PAbF",
        "outputId": "1f057150-f1e5-4a34-af05-f2a2a37133d9"
      },
      "execution_count": 20,
      "outputs": [
        {
          "output_type": "execute_result",
          "data": {
            "text/plain": [
              "array([ True,  True,  True,  True,  True,  True,  True,  True,  True,\n",
              "        True])"
            ]
          },
          "metadata": {},
          "execution_count": 20
        }
      ]
    },
    {
      "cell_type": "code",
      "source": [
        "from sklearn import metrics\n",
        "\n",
        "predicted = model.predict(X_test)\n",
        "print(metrics.classification_report(y_test, predicted))"
      ],
      "metadata": {
        "colab": {
          "base_uri": "https://localhost:8080/"
        },
        "id": "CMeFAyUXPHIo",
        "outputId": "8a8b4e11-f283-4ae6-95e6-4dcc9dd3dd73"
      },
      "execution_count": 21,
      "outputs": [
        {
          "output_type": "stream",
          "name": "stdout",
          "text": [
            "              precision    recall  f1-score   support\n",
            "\n",
            "           0       1.00      1.00      1.00        46\n",
            "           1       1.00      1.00      1.00        35\n",
            "           2       1.00      1.00      1.00        32\n",
            "           3       1.00      1.00      1.00        29\n",
            "           4       0.97      1.00      0.99        37\n",
            "           5       1.00      0.98      0.99        48\n",
            "           6       1.00      1.00      1.00        23\n",
            "           7       1.00      1.00      1.00        30\n",
            "           8       1.00      1.00      1.00        35\n",
            "           9       1.00      1.00      1.00        45\n",
            "\n",
            "    accuracy                           1.00       360\n",
            "   macro avg       1.00      1.00      1.00       360\n",
            "weighted avg       1.00      1.00      1.00       360\n",
            "\n"
          ]
        }
      ]
    },
    {
      "cell_type": "code",
      "source": [
        "metrics.ConfusionMatrixDisplay.from_predictions(y_test, predicted)"
      ],
      "metadata": {
        "colab": {
          "base_uri": "https://localhost:8080/",
          "height": 296
        },
        "id": "DKBD5F5QPKla",
        "outputId": "bbcbe186-cff0-4d04-9ecc-c0d972c450ac"
      },
      "execution_count": 22,
      "outputs": [
        {
          "output_type": "execute_result",
          "data": {
            "text/plain": [
              "<sklearn.metrics._plot.confusion_matrix.ConfusionMatrixDisplay at 0x7fc8268b39d0>"
            ]
          },
          "metadata": {},
          "execution_count": 22
        },
        {
          "output_type": "display_data",
          "data": {
            "text/plain": [
              "<Figure size 432x288 with 2 Axes>"
            ],
            "image/png": "[encoded data removed]"
          },
          "metadata": {
            "needs_background": "light"
          }
        }
      ]
    },
    {
      "cell_type": "code",
      "source": [
        "import pickle"
      ],
      "metadata": {
        "id": "vtALCZMWPPN0"
      },
      "execution_count": 23,
      "outputs": []
    },
    {
      "cell_type": "code",
      "source": [
        "with open(\"model.pkl\", \"wb\") as fio:\n",
        "  pickle.dump(model, fio)"
      ],
      "metadata": {
        "id": "J23krFiHPTz0"
      },
      "execution_count": 24,
      "outputs": []
    },
    {
      "cell_type": "code",
      "source": [
        "with open(\"model.pkl\", \"rb\") as fio:\n",
        "  mymodel = pickle.load(fio)"
      ],
      "metadata": {
        "id": "xC3c5Ti2PXUu"
      },
      "execution_count": 25,
      "outputs": []
    },
    {
      "cell_type": "code",
      "source": [
        "mymodel.predict(X_test[:10]) == y_test[:10]"
      ],
      "metadata": {
        "colab": {
          "base_uri": "https://localhost:8080/"
        },
        "id": "E0FGeNIRPbVC",
        "outputId": "0696c3a1-23fa-481a-8502-41fabc39b4da"
      },
      "execution_count": 26,
      "outputs": [
        {
          "output_type": "execute_result",
          "data": {
            "text/plain": [
              "array([ True,  True,  True,  True,  True,  True,  True,  True,  True,\n",
              "        True])"
            ]
          },
          "metadata": {},
          "execution_count": 26
        }
      ]
    },
    {
      "cell_type": "code",
      "source": [
        "im = Image.open(\"num-3.jpg\").resize((8,8))\n",
        "im.resize((100,100), resample=Image.NEAREST)"
      ],
      "metadata": {
        "colab": {
          "base_uri": "https://localhost:8080/",
          "height": 117
        },
        "id": "CUNxHYw5PgGu",
        "outputId": "c811f4da-7ae2-47e7-b7f4-99835266cd83"
      },
      "execution_count": 33,
      "outputs": [
        {
          "output_type": "execute_result",
          "data": {
            "text/plain": [
              "<PIL.Image.Image image mode=L size=100x100 at 0x7FC82596F7C0>"
            ],
            "image/png": "[encoded data removed]"
          },
          "metadata": {},
          "execution_count": 33
        }
      ]
    },
    {
      "cell_type": "code",
      "source": [
        "np_im = np.array(im)"
      ],
      "metadata": {
        "id": "WFD_T1iHV8Ao"
      },
      "execution_count": 34,
      "outputs": []
    },
    {
      "cell_type": "code",
      "source": [
        "preprocessed_img = np_im.astype(np.float32) / 255 * 16"
      ],
      "metadata": {
        "id": "vNK44wUwV_ft"
      },
      "execution_count": 35,
      "outputs": []
    },
    {
      "cell_type": "code",
      "source": [
        "preprocessed_img.flatten()[None].shape"
      ],
      "metadata": {
        "colab": {
          "base_uri": "https://localhost:8080/"
        },
        "id": "oQpxqIsWWDgY",
        "outputId": "11d46fc2-cb2f-48fe-bc9b-c351abe2a3f7"
      },
      "execution_count": 36,
      "outputs": [
        {
          "output_type": "execute_result",
          "data": {
            "text/plain": [
              "(1, 64)"
            ]
          },
          "metadata": {},
          "execution_count": 36
        }
      ]
    },
    {
      "cell_type": "code",
      "source": [
        "model.predict(preprocessed_img.flatten()[None])"
      ],
      "metadata": {
        "colab": {
          "base_uri": "https://localhost:8080/"
        },
        "id": "Iv2_OXhyWGh9",
        "outputId": "ecf275ac-76ec-4e18-ccab-95082ae8350d"
      },
      "execution_count": 37,
      "outputs": [
        {
          "output_type": "execute_result",
          "data": {
            "text/plain": [
              "array([3])"
            ]
          },
          "metadata": {},
          "execution_count": 37
        }
      ]
    },
    {
      "cell_type": "code",
      "source": [
        "np.where(y_test == 1)"
      ],
      "metadata": {
        "colab": {
          "base_uri": "https://localhost:8080/"
        },
        "id": "c6Uk6HPgWKHY",
        "outputId": "21da47f4-57d9-420f-e5d8-c29323829eba"
      },
      "execution_count": 38,
      "outputs": [
        {
          "output_type": "execute_result",
          "data": {
            "text/plain": [
              "(array([ 16,  21,  22,  26,  31,  50,  61,  64,  69,  81,  85, 101, 104,\n",
              "        105, 128, 141, 161, 191, 219, 223, 228, 230, 241, 253, 257, 295,\n",
              "        303, 305, 315, 316, 323, 331, 343, 346, 348]),)"
            ]
          },
          "metadata": {},
          "execution_count": 38
        }
      ]
    },
    {
      "cell_type": "code",
      "source": [
        "Image.fromarray((X_test[14].reshape((8,8)) / 16 * 255).astype(np.uint8), \"L\").resize((100,100), resample=Image.NEAREST)"
      ],
      "metadata": {
        "colab": {
          "base_uri": "https://localhost:8080/",
          "height": 117
        },
        "id": "VNw4mE36WRHL",
        "outputId": "68d1f5e2-29c9-4416-e49d-a5c913318d6a"
      },
      "execution_count": 39,
      "outputs": [
        {
          "output_type": "execute_result",
          "data": {
            "text/plain": [
              "<PIL.Image.Image image mode=L size=100x100 at 0x7FC82596FB80>"
            ],
            "image/png": "[encoded data removed]"
          },
          "metadata": {},
          "execution_count": 39
        }
      ]
    }
  ]
}